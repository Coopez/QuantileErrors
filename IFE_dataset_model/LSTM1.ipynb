{
 "cells": [
  {
   "cell_type": "code",
   "execution_count": 2,
   "id": "0d8fa975-f3dc-41c7-a19c-1432bcdf2813",
   "metadata": {},
   "outputs": [],
   "source": [
    "import sys\n",
    "import os\n",
    "\n",
    "import numpy as np\n",
    "import pandas as pd\n",
    "import matplotlib.pyplot as plt\n",
    "import keras\n",
    "import pickle\n",
    "from tensorflow.keras.models import Sequential\n",
    "from tensorflow.keras.layers import LSTM, Dense, Bidirectional, Dropout\n",
    "from keras.callbacks import EarlyStopping\n",
    "from tensorflow.keras.optimizers import Adam"
   ]
  },
  {
   "cell_type": "code",
   "execution_count": 69,
   "id": "3bb189ed-276a-4c1e-acf1-49001a0090de",
   "metadata": {},
   "outputs": [],
   "source": [
    "cols = [7, 0, 1, 2, 3, 4, 5, 6, 10, 11, 12]\n",
    "\n",
    "lookback = 30\n",
    "horizon = 90\n",
    "max_epochs = 300\n",
    "batch_size = 1024\n",
    "n_features =  len(cols)\n",
    "\n",
    "split = [1,0.00001, 0.00001]\n",
    "n_neurons=[25,25]\n",
    "n_layers=2\n",
    "dropout = 0.0\n",
    "loss = 'mae'\n",
    "\n",
    "lr = 0.0002\n",
    "\n",
    "trainset = 'trainval'\n",
    "testset = 'test'"
   ]
  },
  {
   "cell_type": "code",
   "execution_count": 88,
   "id": "2350c835-3154-46aa-9332-cd4a7fd68c29",
   "metadata": {},
   "outputs": [],
   "source": [
    "trainval_df = pd.read_pickle('trainval_df.pkl')\n",
    "X_trainval_sc = np.load('trainval_C_sc01.npy')\n",
    "index_trainval = pd.read_pickle('trainval_C_index.pkl')"
   ]
  },
  {
   "cell_type": "code",
   "execution_count": 90,
   "id": "d9dc504d-9f08-4943-96a7-56f492427056",
   "metadata": {},
   "outputs": [
    {
     "data": {
      "text/plain": [
       "((111388, 13), 111268, (111268, 30, 11))"
      ]
     },
     "execution_count": 90,
     "metadata": {},
     "output_type": "execute_result"
    }
   ],
   "source": [
    "(trainval_df.shape, len(index_trainval), X_trainval_sc.shape)"
   ]
  },
  {
   "cell_type": "code",
   "execution_count": 74,
   "id": "1269b0dd-40c5-449e-bf7d-d245acedd2d1",
   "metadata": {},
   "outputs": [],
   "source": [
    "def build_linear_LSTM(n_layers, nodes, horizon, lookback, n_features, lr, batch_size, return_sequences=False, dropout=False,\n",
    "                      dropout_ratio=0.1, loss='mse', run_eagerly=False, stateful=False):\n",
    "    \"\"\"\n",
    "    builds a linear LSTM with vector output through a dense layer\n",
    "    \"\"\"\n",
    "\n",
    "    # Build\n",
    "    model = Sequential()\n",
    "    model.add(keras.Input(shape=(lookback, n_features), batch_size=batch_size))\n",
    "    if n_layers > 1:\n",
    "        for i in range(n_layers - 1):\n",
    "            model.add(LSTM(nodes[i],\n",
    "                           return_sequences=True,\n",
    "                           stateful=stateful))\n",
    "            if dropout is True:\n",
    "                model.add(Dropout(dropout_ratio))\n",
    "\n",
    "    model.add(LSTM(nodes[-1], return_sequences=return_sequences, stateful=stateful))\n",
    "    if dropout is True:\n",
    "        model.add(Dropout(dropout_ratio))\n",
    "\n",
    "    # Vector output to predict multiple steps\n",
    "    model.add(Dense(horizon, activation='linear'))  # Adjusted output layer\n",
    "\n",
    "    # Compile\n",
    "    opt = Adam(learning_rate=lr)\n",
    "    model.compile(optimizer=opt, loss=loss, run_eagerly=run_eagerly)\n",
    "\n",
    "    return model"
   ]
  },
  {
   "cell_type": "code",
   "execution_count": 75,
   "id": "2d571a38-8125-4900-816a-a311f5296c6c",
   "metadata": {},
   "outputs": [],
   "source": [
    "model = build_linear_LSTM(n_layers=n_layers,\n",
    "                          horizon=horizon,\n",
    "                          lookback=lookback,\n",
    "                          n_features=n_features,\n",
    "                          nodes=n_neurons, \n",
    "                          lr=lr, \n",
    "                          batch_size=batch_size,\n",
    "                          dropout=False, \n",
    "                          dropout_ratio=dropout, \n",
    "                          loss=loss,\n",
    "                          stateful=False)\n"
   ]
  },
  {
   "cell_type": "code",
   "execution_count": 76,
   "id": "4fb2dd39-023b-4f5e-be23-d2e2cfccad42",
   "metadata": {},
   "outputs": [
    {
     "data": {
      "text/html": [
       "<pre style=\"white-space:pre;overflow-x:auto;line-height:normal;font-family:Menlo,'DejaVu Sans Mono',consolas,'Courier New',monospace\"><span style=\"font-weight: bold\">Model: \"sequential_5\"</span>\n",
       "</pre>\n"
      ],
      "text/plain": [
       "\u001b[1mModel: \"sequential_5\"\u001b[0m\n"
      ]
     },
     "metadata": {},
     "output_type": "display_data"
    },
    {
     "data": {
      "text/html": [
       "<pre style=\"white-space:pre;overflow-x:auto;line-height:normal;font-family:Menlo,'DejaVu Sans Mono',consolas,'Courier New',monospace\">┏━━━━━━━━━━━━━━━━━━━━━━━━━━━━━━━━━━━━━━┳━━━━━━━━━━━━━━━━━━━━━━━━━━━━━┳━━━━━━━━━━━━━━━━━┓\n",
       "┃<span style=\"font-weight: bold\"> Layer (type)                         </span>┃<span style=\"font-weight: bold\"> Output Shape                </span>┃<span style=\"font-weight: bold\">         Param # </span>┃\n",
       "┡━━━━━━━━━━━━━━━━━━━━━━━━━━━━━━━━━━━━━━╇━━━━━━━━━━━━━━━━━━━━━━━━━━━━━╇━━━━━━━━━━━━━━━━━┩\n",
       "│ lstm_6 (<span style=\"color: #0087ff; text-decoration-color: #0087ff\">LSTM</span>)                        │ (<span style=\"color: #00af00; text-decoration-color: #00af00\">1024</span>, <span style=\"color: #00af00; text-decoration-color: #00af00\">30</span>, <span style=\"color: #00af00; text-decoration-color: #00af00\">25</span>)              │           <span style=\"color: #00af00; text-decoration-color: #00af00\">3,700</span> │\n",
       "├──────────────────────────────────────┼─────────────────────────────┼─────────────────┤\n",
       "│ lstm_7 (<span style=\"color: #0087ff; text-decoration-color: #0087ff\">LSTM</span>)                        │ (<span style=\"color: #00af00; text-decoration-color: #00af00\">1024</span>, <span style=\"color: #00af00; text-decoration-color: #00af00\">25</span>)                  │           <span style=\"color: #00af00; text-decoration-color: #00af00\">5,100</span> │\n",
       "├──────────────────────────────────────┼─────────────────────────────┼─────────────────┤\n",
       "│ dense_3 (<span style=\"color: #0087ff; text-decoration-color: #0087ff\">Dense</span>)                      │ (<span style=\"color: #00af00; text-decoration-color: #00af00\">1024</span>, <span style=\"color: #00af00; text-decoration-color: #00af00\">90</span>)                  │           <span style=\"color: #00af00; text-decoration-color: #00af00\">2,340</span> │\n",
       "└──────────────────────────────────────┴─────────────────────────────┴─────────────────┘\n",
       "</pre>\n"
      ],
      "text/plain": [
       "┏━━━━━━━━━━━━━━━━━━━━━━━━━━━━━━━━━━━━━━┳━━━━━━━━━━━━━━━━━━━━━━━━━━━━━┳━━━━━━━━━━━━━━━━━┓\n",
       "┃\u001b[1m \u001b[0m\u001b[1mLayer (type)                        \u001b[0m\u001b[1m \u001b[0m┃\u001b[1m \u001b[0m\u001b[1mOutput Shape               \u001b[0m\u001b[1m \u001b[0m┃\u001b[1m \u001b[0m\u001b[1m        Param #\u001b[0m\u001b[1m \u001b[0m┃\n",
       "┡━━━━━━━━━━━━━━━━━━━━━━━━━━━━━━━━━━━━━━╇━━━━━━━━━━━━━━━━━━━━━━━━━━━━━╇━━━━━━━━━━━━━━━━━┩\n",
       "│ lstm_6 (\u001b[38;5;33mLSTM\u001b[0m)                        │ (\u001b[38;5;34m1024\u001b[0m, \u001b[38;5;34m30\u001b[0m, \u001b[38;5;34m25\u001b[0m)              │           \u001b[38;5;34m3,700\u001b[0m │\n",
       "├──────────────────────────────────────┼─────────────────────────────┼─────────────────┤\n",
       "│ lstm_7 (\u001b[38;5;33mLSTM\u001b[0m)                        │ (\u001b[38;5;34m1024\u001b[0m, \u001b[38;5;34m25\u001b[0m)                  │           \u001b[38;5;34m5,100\u001b[0m │\n",
       "├──────────────────────────────────────┼─────────────────────────────┼─────────────────┤\n",
       "│ dense_3 (\u001b[38;5;33mDense\u001b[0m)                      │ (\u001b[38;5;34m1024\u001b[0m, \u001b[38;5;34m90\u001b[0m)                  │           \u001b[38;5;34m2,340\u001b[0m │\n",
       "└──────────────────────────────────────┴─────────────────────────────┴─────────────────┘\n"
      ]
     },
     "metadata": {},
     "output_type": "display_data"
    },
    {
     "data": {
      "text/html": [
       "<pre style=\"white-space:pre;overflow-x:auto;line-height:normal;font-family:Menlo,'DejaVu Sans Mono',consolas,'Courier New',monospace\"><span style=\"font-weight: bold\"> Total params: </span><span style=\"color: #00af00; text-decoration-color: #00af00\">11,140</span> (43.52 KB)\n",
       "</pre>\n"
      ],
      "text/plain": [
       "\u001b[1m Total params: \u001b[0m\u001b[38;5;34m11,140\u001b[0m (43.52 KB)\n"
      ]
     },
     "metadata": {},
     "output_type": "display_data"
    },
    {
     "data": {
      "text/html": [
       "<pre style=\"white-space:pre;overflow-x:auto;line-height:normal;font-family:Menlo,'DejaVu Sans Mono',consolas,'Courier New',monospace\"><span style=\"font-weight: bold\"> Trainable params: </span><span style=\"color: #00af00; text-decoration-color: #00af00\">11,140</span> (43.52 KB)\n",
       "</pre>\n"
      ],
      "text/plain": [
       "\u001b[1m Trainable params: \u001b[0m\u001b[38;5;34m11,140\u001b[0m (43.52 KB)\n"
      ]
     },
     "metadata": {},
     "output_type": "display_data"
    },
    {
     "data": {
      "text/html": [
       "<pre style=\"white-space:pre;overflow-x:auto;line-height:normal;font-family:Menlo,'DejaVu Sans Mono',consolas,'Courier New',monospace\"><span style=\"font-weight: bold\"> Non-trainable params: </span><span style=\"color: #00af00; text-decoration-color: #00af00\">0</span> (0.00 B)\n",
       "</pre>\n"
      ],
      "text/plain": [
       "\u001b[1m Non-trainable params: \u001b[0m\u001b[38;5;34m0\u001b[0m (0.00 B)\n"
      ]
     },
     "metadata": {},
     "output_type": "display_data"
    }
   ],
   "source": [
    "model.summary()"
   ]
  },
  {
   "cell_type": "code",
   "execution_count": null,
   "id": "cec872c4-1d0b-42b2-8232-fb2b1b07e427",
   "metadata": {},
   "outputs": [],
   "source": []
  }
 ],
 "metadata": {
  "kernelspec": {
   "display_name": "Python 3 (ipykernel)",
   "language": "python",
   "name": "python3"
  },
  "language_info": {
   "codemirror_mode": {
    "name": "ipython",
    "version": 3
   },
   "file_extension": ".py",
   "mimetype": "text/x-python",
   "name": "python",
   "nbconvert_exporter": "python",
   "pygments_lexer": "ipython3",
   "version": "3.12.2"
  }
 },
 "nbformat": 4,
 "nbformat_minor": 5
}
