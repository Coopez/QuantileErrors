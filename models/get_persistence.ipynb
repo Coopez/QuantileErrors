{
 "cells": [
  {
   "cell_type": "code",
   "execution_count": 1,
   "metadata": {},
   "outputs": [],
   "source": [
    "import numpy as np\n",
    "import pandas as pd\n",
    "import sys\n",
    "import os\n",
    "import matplotlib.pyplot as plt\n",
    "import pvlib\n",
    "sys.path.append(os.getcwd())\n",
    "from persistence import PVForecast\n"
   ]
  },
  {
   "cell_type": "code",
   "execution_count": 25,
   "metadata": {},
   "outputs": [],
   "source": [
    "def get_s_persistance(ghi, horizon, freq='10s', location=None):\n",
    "    \"\"\"\n",
    "    get a single persistance forecast\n",
    "    \"\"\"\n",
    "\n",
    "    if location is None:\n",
    "        location = pvlib.location.Location(latitude=59.973218,\n",
    "                                       longitude=11.051604,\n",
    "                                       altitude=130,\n",
    "                                       tz='CET')\n",
    "\n",
    "    persistance = PVForecast(measured_signal=ghi, \n",
    "                             binning=None,\n",
    "                             f_h=horizon,\n",
    "                             s_h = '0s',\n",
    "                             f_i=freq,\n",
    "                             location=location)\n",
    "                             \n",
    "    sp = persistance.smart_persistance()     \n",
    "\n",
    "    return sp\n",
    "\n",
    "def get_clearsky2(location, index, G_0=1360, max_sza=90, kind='clear') -> pd.Series:\n",
    "    \"\"\"\n",
    "    Calculate clearness.\n",
    "    \n",
    "    :param G_0: float\n",
    "        the extra terrestrial radiation received by the Earth from the Sun\n",
    "    :return: G_clear : pandas.Series\n",
    "    \n",
    "    \"\"\"\n",
    "    \n",
    "    # Get solar zenith angle (SZA):\n",
    "    sza = location.get_solarposition(index)['zenith']\n",
    "    \n",
    "    \n",
    "\n",
    "    # Get clearsky\n",
    "    if kind=='clearsky':\n",
    "        G_clear = location.get_clearsky(sza.index)\n",
    "    elif kind == 'clear':\n",
    "        # Calculate cos(SZA):\n",
    "        cos_zenith = pvlib.tools.cosd(sza)\n",
    "    else:\n",
    "        print('select clear or clearsky, default to clear')\n",
    "        # Calculate cos(SZA):\n",
    "        cos_zenith = pvlib.tools.cosd(sza)\n",
    "    \n",
    "    # Calculate clearness:\n",
    "    G_clear = G_0 * np.maximum(cos_zenith, np.cos(np.radians(max_sza)))\n",
    "    \n",
    "    return G_clear\n",
    "\n",
    "\n",
    "def get_clearsky(ghi, horizon, freq='10s', location=None):\n",
    "    \"\"\"\n",
    "    get a single persistance forecast\n",
    "    \"\"\"\n",
    "\n",
    "    if location is None:\n",
    "        location = pvlib.location.Location(latitude=59.973218,\n",
    "                                       longitude=11.051604,\n",
    "                                       altitude=130,\n",
    "                                       tz='CET')\n",
    "\n",
    "    persistance = PVForecast(measured_signal=ghi, \n",
    "                             binning=None,\n",
    "                             f_h=horizon,\n",
    "                             s_h = '0s',\n",
    "                             f_i=freq,\n",
    "                             location=location)\n",
    "                             \n",
    "    GHI_clear = persistance.get_clearness()     \n",
    "\n",
    "    return GHI_clear\n",
    "\n",
    "    \n",
    "    \n",
    "def get_spersistance_df(index, horizon_steps=90, location=None, freq='10s', ghi_data_path=None, ghi_df=None,revnorm=False):\n",
    "    \"\"\"\n",
    "    get datafram of persistance forecasts, where the index indicates the time at which the persistance forecast is issued\n",
    "    With a given frequency\n",
    "    A given amount of steps forward in time\n",
    "    \"\"\"\n",
    "    if ghi_data_path == None:\n",
    "        ghi_data_path = 'Data_GHI/KZPR_IRHoSunP'\n",
    "        \n",
    "    # dates = np.sort(list(set(pd.to_datetime(index).date)))\n",
    "    dates = np.sort(list(set(index.dt.date)))\n",
    "    #columns = [(i*10)+10 for i in range(horizon_steps)]\n",
    "    sp_df = pd.DataFrame()\n",
    "\n",
    "    for day in dates:\n",
    "        print(day)\n",
    "    \n",
    "        day_ind = \"\".join(map(lambda x: x, str(day).split(\"-\")))\n",
    "\n",
    "        if ghi_df is None:    \n",
    "            if (ghi_data_path.split('/')[-1].split('_')[0] == 'processed'):\n",
    "                ghi = (pd.read_pickle(f'{ghi_data_path}/{day_ind}.pkl').tz_localize('CET')+1)*(1367/2)\n",
    "            else:\n",
    "                ghi = pd.read_pickle(f'{ghi_data_path}/{day_ind}/{day_ind}.pkl').set_index('date_time').tz_localize('CET')\n",
    "        else:\n",
    "            ghi = ghi_df[ghi_df.index.date == day]\n",
    "            \n",
    "            if revnorm==True:\n",
    "                ghi = (ghi + 1)*(1367/2)\n",
    "    \n",
    "        if location is None:\n",
    "            location = pvlib.location.Location(latitude=59.973218,\n",
    "                                           longitude=11.051604,\n",
    "                                           altitude=130,\n",
    "                                           tz='CET')\n",
    "    \n",
    "        # first horizon\n",
    "        sp = get_s_persistance(ghi=ghi, horizon=freq, freq=freq, location=location)\n",
    "\n",
    "        # rest of horizons\n",
    "        for step in range(2,horizon_steps+1):\n",
    "            h_seconds = step*10\n",
    "            sp_step = get_s_persistance(horizon=f'{h_seconds}s', freq=freq, ghi=ghi, location=location)\n",
    "        \n",
    "            sp = pd.concat([sp,sp_step],axis=1)\n",
    "\n",
    "        # Shift forecast to correspond to issued timestamp\n",
    "        sp.columns = [i*10 for i in range(1,horizon_steps+1)]\n",
    "        for i,col_name in enumerate(sp.columns):\n",
    "            sp.iloc[:-i-1,i] = sp.iloc[i+1:,i]\n",
    "        \n",
    "        # concat each day\n",
    "        sp_day = sp.loc[index[index.dt.date == day],:]\n",
    "        sp_df = pd.concat([sp_df, sp_day], axis=0)\n",
    "    return sp_df\n"
   ]
  },
  {
   "cell_type": "code",
   "execution_count": 23,
   "metadata": {},
   "outputs": [],
   "source": [
    "# file_path_ghi = \"C:\\\\Users\\\\nikla\\\\Documents\\\\phd\\\\paper2\\\\code\\\\IFE_dataset_model\\\\irr_df_20210622_20240618.pkl\"\n",
    "# irr_df = pd.read_pickle(file_path_ghi)\n",
    "\n",
    "path = 'C:\\\\Users\\\\nikla\\\\Documents\\\\phd\\\\paper2\\\\code\\\\IFE_dataset_model\\\\trainval_df_preprocessed.pkl'\n",
    "trainval_df = pd.read_pickle(path)\n",
    "ghi = trainval_df['GHI']\n",
    "\n",
    "index = pd.read_pickle('C:\\\\Users\\\\nikla\\\\Documents\\\\phd\\\\paper2\\\\code\\\\IFE_dataset_model\\\\trainval_C_index.pkl')\n",
    "\n",
    "index_filtered = index.iloc[::3]\n",
    "ghi_rolling = ghi.rolling(window=3).mean()#[index_filtered]\n"
   ]
  },
  {
   "cell_type": "code",
   "execution_count": 21,
   "metadata": {},
   "outputs": [
    {
     "data": {
      "text/plain": [
       "2022-06-09 05:57:00+02:00    52.000004\n",
       "2022-06-09 05:57:30+02:00    55.666665\n",
       "2022-06-09 05:58:00+02:00    58.999994\n",
       "2022-06-09 05:58:30+02:00    62.666655\n",
       "2022-06-09 05:59:00+02:00    66.999982\n",
       "                               ...    \n",
       "2024-02-29 15:48:40+01:00     7.999988\n",
       "2024-02-29 15:49:10+01:00     8.333321\n",
       "2024-02-29 15:49:40+01:00     8.999987\n",
       "2024-02-29 15:50:10+01:00     8.999987\n",
       "2024-02-29 15:50:40+01:00     8.999987\n",
       "Name: GHI, Length: 37090, dtype: float64"
      ]
     },
     "execution_count": 21,
     "metadata": {},
     "output_type": "execute_result"
    }
   ],
   "source": [
    "ghi_rolling"
   ]
  },
  {
   "cell_type": "code",
   "execution_count": null,
   "metadata": {},
   "outputs": [
    {
     "name": "stdout",
     "output_type": "stream",
     "text": [
      "2022-06-09\n",
      "2022-06-10\n"
     ]
    },
    {
     "ename": "KeyError",
     "evalue": "\"None of [DatetimeIndex(['2022-06-10 05:51:10+02:00', '2022-06-10 05:51:40+02:00',\\n               '2022-06-10 05:52:10+02:00', '2022-06-10 05:52:40+02:00',\\n               '2022-06-10 05:53:10+02:00', '2022-06-10 05:53:40+02:00',\\n               '2022-06-10 05:54:10+02:00', '2022-06-10 05:54:40+02:00',\\n               '2022-06-10 05:55:10+02:00', '2022-06-10 05:55:40+02:00',\\n               ...\\n               '2022-06-10 20:35:10+02:00', '2022-06-10 20:35:40+02:00',\\n               '2022-06-10 20:36:10+02:00', '2022-06-10 20:36:40+02:00',\\n               '2022-06-10 20:37:10+02:00', '2022-06-10 20:37:40+02:00',\\n               '2022-06-10 20:38:10+02:00', '2022-06-10 20:38:40+02:00',\\n               '2022-06-10 20:39:10+02:00', '2022-06-10 20:39:40+02:00'],\\n              dtype='datetime64[ns, CET]', length=1778, freq=None)] are in the [index]\"",
     "output_type": "error",
     "traceback": [
      "\u001b[1;31m---------------------------------------------------------------------------\u001b[0m",
      "\u001b[1;31mKeyError\u001b[0m                                  Traceback (most recent call last)",
      "Cell \u001b[1;32mIn[28], line 2\u001b[0m\n\u001b[0;32m      0\u001b[0m <Error retrieving source code with stack_data see ipython/ipython#13598>\n",
      "Cell \u001b[1;32mIn[25], line 131\u001b[0m, in \u001b[0;36mget_spersistance_df\u001b[1;34m(index, horizon_steps, location, freq, ghi_data_path, ghi_df, revnorm)\u001b[0m\n\u001b[0;32m    128\u001b[0m         sp\u001b[38;5;241m.\u001b[39miloc[:\u001b[38;5;241m-\u001b[39mi\u001b[38;5;241m-\u001b[39m\u001b[38;5;241m1\u001b[39m,i] \u001b[38;5;241m=\u001b[39m sp\u001b[38;5;241m.\u001b[39miloc[i\u001b[38;5;241m+\u001b[39m\u001b[38;5;241m1\u001b[39m:,i]\n\u001b[0;32m    130\u001b[0m     \u001b[38;5;66;03m# concat each day\u001b[39;00m\n\u001b[1;32m--> 131\u001b[0m     sp_day \u001b[38;5;241m=\u001b[39m sp\u001b[38;5;241m.\u001b[39mloc[index[index\u001b[38;5;241m.\u001b[39mdt\u001b[38;5;241m.\u001b[39mdate \u001b[38;5;241m==\u001b[39m day],:]\n\u001b[0;32m    132\u001b[0m     sp_df \u001b[38;5;241m=\u001b[39m pd\u001b[38;5;241m.\u001b[39mconcat([sp_df, sp_day], axis\u001b[38;5;241m=\u001b[39m\u001b[38;5;241m0\u001b[39m)\n\u001b[0;32m    133\u001b[0m \u001b[38;5;28;01mreturn\u001b[39;00m sp_df\n",
      "File \u001b[1;32mc:\\Users\\nikla\\anaconda3\\envs\\qe\\Lib\\site-packages\\pandas\\core\\indexing.py:1184\u001b[0m, in \u001b[0;36m_LocationIndexer.__getitem__\u001b[1;34m(self, key)\u001b[0m\n\u001b[0;32m   1182\u001b[0m     \u001b[38;5;28;01mif\u001b[39;00m \u001b[38;5;28mself\u001b[39m\u001b[38;5;241m.\u001b[39m_is_scalar_access(key):\n\u001b[0;32m   1183\u001b[0m         \u001b[38;5;28;01mreturn\u001b[39;00m \u001b[38;5;28mself\u001b[39m\u001b[38;5;241m.\u001b[39mobj\u001b[38;5;241m.\u001b[39m_get_value(\u001b[38;5;241m*\u001b[39mkey, takeable\u001b[38;5;241m=\u001b[39m\u001b[38;5;28mself\u001b[39m\u001b[38;5;241m.\u001b[39m_takeable)\n\u001b[1;32m-> 1184\u001b[0m     \u001b[38;5;28;01mreturn\u001b[39;00m \u001b[38;5;28mself\u001b[39m\u001b[38;5;241m.\u001b[39m_getitem_tuple(key)\n\u001b[0;32m   1185\u001b[0m \u001b[38;5;28;01melse\u001b[39;00m:\n\u001b[0;32m   1186\u001b[0m     \u001b[38;5;66;03m# we by definition only have the 0th axis\u001b[39;00m\n\u001b[0;32m   1187\u001b[0m     axis \u001b[38;5;241m=\u001b[39m \u001b[38;5;28mself\u001b[39m\u001b[38;5;241m.\u001b[39maxis \u001b[38;5;129;01mor\u001b[39;00m \u001b[38;5;241m0\u001b[39m\n",
      "File \u001b[1;32mc:\\Users\\nikla\\anaconda3\\envs\\qe\\Lib\\site-packages\\pandas\\core\\indexing.py:1377\u001b[0m, in \u001b[0;36m_LocIndexer._getitem_tuple\u001b[1;34m(self, tup)\u001b[0m\n\u001b[0;32m   1374\u001b[0m \u001b[38;5;28;01mif\u001b[39;00m \u001b[38;5;28mself\u001b[39m\u001b[38;5;241m.\u001b[39m_multi_take_opportunity(tup):\n\u001b[0;32m   1375\u001b[0m     \u001b[38;5;28;01mreturn\u001b[39;00m \u001b[38;5;28mself\u001b[39m\u001b[38;5;241m.\u001b[39m_multi_take(tup)\n\u001b[1;32m-> 1377\u001b[0m \u001b[38;5;28;01mreturn\u001b[39;00m \u001b[38;5;28mself\u001b[39m\u001b[38;5;241m.\u001b[39m_getitem_tuple_same_dim(tup)\n",
      "File \u001b[1;32mc:\\Users\\nikla\\anaconda3\\envs\\qe\\Lib\\site-packages\\pandas\\core\\indexing.py:1020\u001b[0m, in \u001b[0;36m_LocationIndexer._getitem_tuple_same_dim\u001b[1;34m(self, tup)\u001b[0m\n\u001b[0;32m   1017\u001b[0m \u001b[38;5;28;01mif\u001b[39;00m com\u001b[38;5;241m.\u001b[39mis_null_slice(key):\n\u001b[0;32m   1018\u001b[0m     \u001b[38;5;28;01mcontinue\u001b[39;00m\n\u001b[1;32m-> 1020\u001b[0m retval \u001b[38;5;241m=\u001b[39m \u001b[38;5;28mgetattr\u001b[39m(retval, \u001b[38;5;28mself\u001b[39m\u001b[38;5;241m.\u001b[39mname)\u001b[38;5;241m.\u001b[39m_getitem_axis(key, axis\u001b[38;5;241m=\u001b[39mi)\n\u001b[0;32m   1021\u001b[0m \u001b[38;5;66;03m# We should never have retval.ndim < self.ndim, as that should\u001b[39;00m\n\u001b[0;32m   1022\u001b[0m \u001b[38;5;66;03m#  be handled by the _getitem_lowerdim call above.\u001b[39;00m\n\u001b[0;32m   1023\u001b[0m \u001b[38;5;28;01massert\u001b[39;00m retval\u001b[38;5;241m.\u001b[39mndim \u001b[38;5;241m==\u001b[39m \u001b[38;5;28mself\u001b[39m\u001b[38;5;241m.\u001b[39mndim\n",
      "File \u001b[1;32mc:\\Users\\nikla\\anaconda3\\envs\\qe\\Lib\\site-packages\\pandas\\core\\indexing.py:1420\u001b[0m, in \u001b[0;36m_LocIndexer._getitem_axis\u001b[1;34m(self, key, axis)\u001b[0m\n\u001b[0;32m   1417\u001b[0m     \u001b[38;5;28;01mif\u001b[39;00m \u001b[38;5;28mhasattr\u001b[39m(key, \u001b[38;5;124m\"\u001b[39m\u001b[38;5;124mndim\u001b[39m\u001b[38;5;124m\"\u001b[39m) \u001b[38;5;129;01mand\u001b[39;00m key\u001b[38;5;241m.\u001b[39mndim \u001b[38;5;241m>\u001b[39m \u001b[38;5;241m1\u001b[39m:\n\u001b[0;32m   1418\u001b[0m         \u001b[38;5;28;01mraise\u001b[39;00m \u001b[38;5;167;01mValueError\u001b[39;00m(\u001b[38;5;124m\"\u001b[39m\u001b[38;5;124mCannot index with multidimensional key\u001b[39m\u001b[38;5;124m\"\u001b[39m)\n\u001b[1;32m-> 1420\u001b[0m     \u001b[38;5;28;01mreturn\u001b[39;00m \u001b[38;5;28mself\u001b[39m\u001b[38;5;241m.\u001b[39m_getitem_iterable(key, axis\u001b[38;5;241m=\u001b[39maxis)\n\u001b[0;32m   1422\u001b[0m \u001b[38;5;66;03m# nested tuple slicing\u001b[39;00m\n\u001b[0;32m   1423\u001b[0m \u001b[38;5;28;01mif\u001b[39;00m is_nested_tuple(key, labels):\n",
      "File \u001b[1;32mc:\\Users\\nikla\\anaconda3\\envs\\qe\\Lib\\site-packages\\pandas\\core\\indexing.py:1360\u001b[0m, in \u001b[0;36m_LocIndexer._getitem_iterable\u001b[1;34m(self, key, axis)\u001b[0m\n\u001b[0;32m   1357\u001b[0m \u001b[38;5;28mself\u001b[39m\u001b[38;5;241m.\u001b[39m_validate_key(key, axis)\n\u001b[0;32m   1359\u001b[0m \u001b[38;5;66;03m# A collection of keys\u001b[39;00m\n\u001b[1;32m-> 1360\u001b[0m keyarr, indexer \u001b[38;5;241m=\u001b[39m \u001b[38;5;28mself\u001b[39m\u001b[38;5;241m.\u001b[39m_get_listlike_indexer(key, axis)\n\u001b[0;32m   1361\u001b[0m \u001b[38;5;28;01mreturn\u001b[39;00m \u001b[38;5;28mself\u001b[39m\u001b[38;5;241m.\u001b[39mobj\u001b[38;5;241m.\u001b[39m_reindex_with_indexers(\n\u001b[0;32m   1362\u001b[0m     {axis: [keyarr, indexer]}, copy\u001b[38;5;241m=\u001b[39m\u001b[38;5;28;01mTrue\u001b[39;00m, allow_dups\u001b[38;5;241m=\u001b[39m\u001b[38;5;28;01mTrue\u001b[39;00m\n\u001b[0;32m   1363\u001b[0m )\n",
      "File \u001b[1;32mc:\\Users\\nikla\\anaconda3\\envs\\qe\\Lib\\site-packages\\pandas\\core\\indexing.py:1558\u001b[0m, in \u001b[0;36m_LocIndexer._get_listlike_indexer\u001b[1;34m(self, key, axis)\u001b[0m\n\u001b[0;32m   1555\u001b[0m ax \u001b[38;5;241m=\u001b[39m \u001b[38;5;28mself\u001b[39m\u001b[38;5;241m.\u001b[39mobj\u001b[38;5;241m.\u001b[39m_get_axis(axis)\n\u001b[0;32m   1556\u001b[0m axis_name \u001b[38;5;241m=\u001b[39m \u001b[38;5;28mself\u001b[39m\u001b[38;5;241m.\u001b[39mobj\u001b[38;5;241m.\u001b[39m_get_axis_name(axis)\n\u001b[1;32m-> 1558\u001b[0m keyarr, indexer \u001b[38;5;241m=\u001b[39m ax\u001b[38;5;241m.\u001b[39m_get_indexer_strict(key, axis_name)\n\u001b[0;32m   1560\u001b[0m \u001b[38;5;28;01mreturn\u001b[39;00m keyarr, indexer\n",
      "File \u001b[1;32mc:\\Users\\nikla\\anaconda3\\envs\\qe\\Lib\\site-packages\\pandas\\core\\indexes\\base.py:6200\u001b[0m, in \u001b[0;36mIndex._get_indexer_strict\u001b[1;34m(self, key, axis_name)\u001b[0m\n\u001b[0;32m   6197\u001b[0m \u001b[38;5;28;01melse\u001b[39;00m:\n\u001b[0;32m   6198\u001b[0m     keyarr, indexer, new_indexer \u001b[38;5;241m=\u001b[39m \u001b[38;5;28mself\u001b[39m\u001b[38;5;241m.\u001b[39m_reindex_non_unique(keyarr)\n\u001b[1;32m-> 6200\u001b[0m \u001b[38;5;28mself\u001b[39m\u001b[38;5;241m.\u001b[39m_raise_if_missing(keyarr, indexer, axis_name)\n\u001b[0;32m   6202\u001b[0m keyarr \u001b[38;5;241m=\u001b[39m \u001b[38;5;28mself\u001b[39m\u001b[38;5;241m.\u001b[39mtake(indexer)\n\u001b[0;32m   6203\u001b[0m \u001b[38;5;28;01mif\u001b[39;00m \u001b[38;5;28misinstance\u001b[39m(key, Index):\n\u001b[0;32m   6204\u001b[0m     \u001b[38;5;66;03m# GH 42790 - Preserve name from an Index\u001b[39;00m\n",
      "File \u001b[1;32mc:\\Users\\nikla\\anaconda3\\envs\\qe\\Lib\\site-packages\\pandas\\core\\indexes\\base.py:6249\u001b[0m, in \u001b[0;36mIndex._raise_if_missing\u001b[1;34m(self, key, indexer, axis_name)\u001b[0m\n\u001b[0;32m   6247\u001b[0m \u001b[38;5;28;01mif\u001b[39;00m nmissing:\n\u001b[0;32m   6248\u001b[0m     \u001b[38;5;28;01mif\u001b[39;00m nmissing \u001b[38;5;241m==\u001b[39m \u001b[38;5;28mlen\u001b[39m(indexer):\n\u001b[1;32m-> 6249\u001b[0m         \u001b[38;5;28;01mraise\u001b[39;00m \u001b[38;5;167;01mKeyError\u001b[39;00m(\u001b[38;5;124mf\u001b[39m\u001b[38;5;124m\"\u001b[39m\u001b[38;5;124mNone of [\u001b[39m\u001b[38;5;132;01m{\u001b[39;00mkey\u001b[38;5;132;01m}\u001b[39;00m\u001b[38;5;124m] are in the [\u001b[39m\u001b[38;5;132;01m{\u001b[39;00maxis_name\u001b[38;5;132;01m}\u001b[39;00m\u001b[38;5;124m]\u001b[39m\u001b[38;5;124m\"\u001b[39m)\n\u001b[0;32m   6251\u001b[0m     not_found \u001b[38;5;241m=\u001b[39m \u001b[38;5;28mlist\u001b[39m(ensure_index(key)[missing_mask\u001b[38;5;241m.\u001b[39mnonzero()[\u001b[38;5;241m0\u001b[39m]]\u001b[38;5;241m.\u001b[39munique())\n\u001b[0;32m   6252\u001b[0m     \u001b[38;5;28;01mraise\u001b[39;00m \u001b[38;5;167;01mKeyError\u001b[39;00m(\u001b[38;5;124mf\u001b[39m\u001b[38;5;124m\"\u001b[39m\u001b[38;5;132;01m{\u001b[39;00mnot_found\u001b[38;5;132;01m}\u001b[39;00m\u001b[38;5;124m not in index\u001b[39m\u001b[38;5;124m\"\u001b[39m)\n",
      "\u001b[1;31mKeyError\u001b[0m: \"None of [DatetimeIndex(['2022-06-10 05:51:10+02:00', '2022-06-10 05:51:40+02:00',\\n               '2022-06-10 05:52:10+02:00', '2022-06-10 05:52:40+02:00',\\n               '2022-06-10 05:53:10+02:00', '2022-06-10 05:53:40+02:00',\\n               '2022-06-10 05:54:10+02:00', '2022-06-10 05:54:40+02:00',\\n               '2022-06-10 05:55:10+02:00', '2022-06-10 05:55:40+02:00',\\n               ...\\n               '2022-06-10 20:35:10+02:00', '2022-06-10 20:35:40+02:00',\\n               '2022-06-10 20:36:10+02:00', '2022-06-10 20:36:40+02:00',\\n               '2022-06-10 20:37:10+02:00', '2022-06-10 20:37:40+02:00',\\n               '2022-06-10 20:38:10+02:00', '2022-06-10 20:38:40+02:00',\\n               '2022-06-10 20:39:10+02:00', '2022-06-10 20:39:40+02:00'],\\n              dtype='datetime64[ns, CET]', length=1778, freq=None)] are in the [index]\""
     ]
    },
    {
     "ename": "",
     "evalue": "",
     "output_type": "error",
     "traceback": [
      "\u001b[1;31mThe Kernel crashed while executing code in the current cell or a previous cell. \n",
      "\u001b[1;31mPlease review the code in the cell(s) to identify a possible cause of the failure. \n",
      "\u001b[1;31mClick <a href='https://aka.ms/vscodeJupyterKernelCrash'>here</a> for more info. \n",
      "\u001b[1;31mView Jupyter <a href='command:jupyter.viewOutput'>log</a> for further details."
     ]
    }
   ],
   "source": [
    "\n",
    "pers = get_spersistance_df(index_filtered, horizon_steps=30, location=None, freq='30s', ghi_data_path=None, ghi_df=ghi_rolling)\n",
    "\n"
   ]
  },
  {
   "cell_type": "code",
   "execution_count": null,
   "metadata": {},
   "outputs": [],
   "source": [
    "pers.to_pickle('persistence_30s.pkl')"
   ]
  }
 ],
 "metadata": {
  "kernelspec": {
   "display_name": "qe",
   "language": "python",
   "name": "python3"
  },
  "language_info": {
   "codemirror_mode": {
    "name": "ipython",
    "version": 3
   },
   "file_extension": ".py",
   "mimetype": "text/x-python",
   "name": "python",
   "nbconvert_exporter": "python",
   "pygments_lexer": "ipython3",
   "version": "3.11.10"
  }
 },
 "nbformat": 4,
 "nbformat_minor": 2
}
