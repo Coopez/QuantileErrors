{
 "cells": [
  {
   "cell_type": "code",
   "execution_count": 48,
   "id": "8a0117d6",
   "metadata": {},
   "outputs": [],
   "source": [
    "def get_nora3(latlons, vars, start, end, testing= True):\n",
    "\n",
    "    import pandas as pd\n",
    "    import netCDF4\n",
    "    import pyproj\n",
    "    import numpy as np\n",
    "    import itertools\n",
    "\n",
    "    start_date = start\n",
    "    end_date = end\n",
    "\n",
    "    timerange = pd.date_range(start=start_date, end = end_date, freq = 'H')\n",
    "    timerange_6 = pd.date_range(start=start_date, end = end_date, freq = '6H')\n",
    "    timeset = ['03','04','05','06','07','08','09']\n",
    "\n",
    "    for hind,ind in zip(itertools.cycle(timeset),range(len(timerange_6))):\n",
    "        date = timerange_6.date[ind].strftime(\"%Y%m%d\")\n",
    "        time = timerange_6[int(ind)].strftime(\"%H\")\n",
    "        filepath_Nora3 = (\n",
    "                \"https://thredds.met.no/thredds/dodsC/nora3/{0}\".format(timerange_6.date[ind].strftime(\"%Y/%m/%d\"))\n",
    "            )   \n",
    "        try:\n",
    "            remfile = filepath_Nora3 +\"/\"+ time +\"/fc\"+ date + time +\"_0\" + hind + \".nc\"\n",
    "            \n",
    "            DS = netCDF4.Dataset(remfile,\"r\")\n",
    "            print(DS.variables[\"time\"])\n",
    "            x = DS.variables[\"x\"][:]\n",
    "            y = DS.variables[\"y\"][:]\n",
    "\n",
    "            proj = pyproj.Proj(DS.variables[\"projection_lambert\"].proj4) # get projection to lat long as function\n",
    "\n",
    "            #dates = pd.Series(np.full(horizon, fill_value=DS.min_time))\n",
    "            #time_ahead = dates.index\n",
    "\n",
    "            A  = np.zeros((len(vars),len(latlons))) * np.nan\n",
    "\n",
    "            for varidx, var in enumerate(vars): # need to make a manual var list\n",
    "                a = DS.variables[var][0,0,:,:]# results from format (1,1,x,y)\n",
    "                print(DS.variables[var])\n",
    "                for ptidx, latlon in enumerate(latlons):\n",
    "                    lat = latlon[0]\n",
    "                    lon = latlon[1]\n",
    "                    # Compute projected coordinates of lat/lon point\n",
    "                    X,Y = proj(lon,lat)\n",
    "                    Ix = np.argmin(np.abs(x - X)) # take location which is closest\n",
    "                    Iy = np.argmin(np.abs(y - Y)) \n",
    "                    A[varidx,ptidx] = a[Iy,Ix] \n",
    "            \n",
    "            if not testing:\n",
    "                for ptidx, latlon in enumerate(latlons): # data saving format, apart from file name should be good\n",
    "                    df = pd.DataFrame(A[:,ptidx])\n",
    "                    #df.index = pd.MultiIndex.from_arrays([dates, time_ahead], names=['Time', 'horizon'])\n",
    "                    df.columns = vars\n",
    "                    filename = \"nora3_lat{0}_lon{1}_{2}_{3}.csv\".format(latlon[0], latlon[1], date, time)\n",
    "                    df.to_csv(filename)\n",
    "            else: \n",
    "                for ptidx, latlon in enumerate(latlons): # data saving format, apart from file name should be good\n",
    "                    df = pd.DataFrame(A[:,ptidx])\n",
    "                    #df.index = pd.MultiIndex.from_arrays([dates, time_ahead], names=['Time', 'horizon'])\n",
    "                    print(df)\n",
    "                    df.columns = vars\n",
    "                    filename = \"nora3_lat{0}_lon{1}_{2}_{3}.csv\".format(latlon[0], latlon[1], date, time)\n",
    "                    print(filename)\n",
    "       \n",
    "        except:\n",
    "            raise \"well this isnt supposed to happen though..\"\n",
    "            #continue\n",
    "    \n",
    "    \n",
    "            \n",
    "\n",
    "\n",
    "\n",
    "\n",
    "\n"
   ]
  },
  {
   "cell_type": "code",
   "execution_count": 29,
   "id": "cff95faa",
   "metadata": {},
   "outputs": [],
   "source": [
    "import pandas as pd\n",
    "import netCDF4\n",
    "import pyproj\n",
    "import numpy as np\n",
    "import itertools\n",
    "start_date = \"01-01-2021\"\n",
    "end_date = \"01-07-2021\"\n",
    "\n",
    "timerange = pd.date_range(start=start_date, end = end_date, freq = 'H')\n",
    "timerange_6 = pd.date_range(start=start_date, end = end_date, freq = '6H')\n",
    "timeset = ['03','04','05','06','07','08','09']"
   ]
  },
  {
   "cell_type": "code",
   "execution_count": 42,
   "id": "7d434542",
   "metadata": {},
   "outputs": [
    {
     "ename": "NameError",
     "evalue": "name 'itertools' is not defined",
     "output_type": "error",
     "traceback": [
      "\u001b[1;31m---------------------------------------------------------------------------\u001b[0m",
      "\u001b[1;31mNameError\u001b[0m                                 Traceback (most recent call last)",
      "Cell \u001b[1;32mIn[42], line 2\u001b[0m\n\u001b[0;32m      1\u001b[0m count \u001b[39m=\u001b[39m \u001b[39m0\u001b[39m\n\u001b[1;32m----> 2\u001b[0m \u001b[39mfor\u001b[39;00m horizon,ind \u001b[39min\u001b[39;00m \u001b[39mzip\u001b[39m(itertools\u001b[39m.\u001b[39mcycle(timeset),\u001b[39mrange\u001b[39m(\u001b[39mlen\u001b[39m(timerange_6))):\n\u001b[0;32m      3\u001b[0m     date \u001b[39m=\u001b[39m timerange_6\u001b[39m.\u001b[39mdate[ind]\u001b[39m.\u001b[39mstrftime(\u001b[39m\"\u001b[39m\u001b[39m%\u001b[39m\u001b[39mY\u001b[39m\u001b[39m%\u001b[39m\u001b[39mm\u001b[39m\u001b[39m%d\u001b[39;00m\u001b[39m\"\u001b[39m)\n\u001b[0;32m      4\u001b[0m     time \u001b[39m=\u001b[39m timerange_6[\u001b[39mint\u001b[39m(ind)]\u001b[39m.\u001b[39mstrftime(\u001b[39m\"\u001b[39m\u001b[39m%\u001b[39m\u001b[39mH\u001b[39m\u001b[39m\"\u001b[39m)\n",
      "\u001b[1;31mNameError\u001b[0m: name 'itertools' is not defined"
     ]
    }
   ],
   "source": [
    "count = 0\n",
    "for horizon,ind in zip(itertools.cycle(timeset),range(len(timerange_6))):\n",
    "    date = timerange_6.date[ind].strftime(\"%Y%m%d\")\n",
    "    time = timerange_6[int(ind)].strftime(\"%H\")\n",
    "    #horizon = timerange[ind].strftime(\"%H\")\n",
    "    filepath_Nora3 = (\n",
    "            \"https://thredds.met.no/thredds/dodsC/nora3/{0}\".format(timerange.date[ind].strftime(\"%Y/%m/%d\"))\n",
    "        )   \n",
    "  \n",
    "    remfile = filepath_Nora3 +\"/\"+ time +\"/fc\"+ date + time +\"_0\" + horizon + \"_fp.nc\"\n",
    "    print(remfile)\n",
    "    count +=1\n",
    "print (count)"
   ]
  },
  {
   "cell_type": "code",
   "execution_count": 3,
   "id": "3d3b0725",
   "metadata": {},
   "outputs": [],
   "source": [
    "import netCDF4\n",
    "import pyproj\n",
    "import pandas as pd\n",
    "import numpy as np"
   ]
  },
  {
   "cell_type": "code",
   "execution_count": 11,
   "id": "5ab97534",
   "metadata": {},
   "outputs": [],
   "source": [
    "# use this as latlon\n",
    "\n",
    "latlons = [[58.134, 7.0452],\n",
    " [58.34, 8.5225],\n",
    " [58.7605, 5.6508],\n",
    " [59.0467, 10.125],\n",
    " [59.2268, 9.5772],\n",
    " [59.3188, 10.8145],\n",
    " [59.3193, 11.0422],\n",
    " [59.3808, 10.2397],\n",
    " [59.3882, 11.3905],\n",
    " [59.6193, 10.215],\n",
    " [59.6605, 10.7818],\n",
    " [59.6625, 5.9538],\n",
    " [59.7908, 10.2598],\n",
    " [59.9423, 10.72],\n",
    " [60.1268, 11.3933],\n",
    " [60.1403, 10.2662],\n",
    " [60.3185, 6.6538],\n",
    " [60.3558, 10.5592],\n",
    " [60.3837, 5.332],\n",
    " [60.7002, 10.8695]]"
   ]
  },
  {
   "cell_type": "code",
   "execution_count": 27,
   "id": "dfc8d941",
   "metadata": {},
   "outputs": [],
   "source": [
    "vars = [\n",
    "\"integral_of_surface_net_downward_shortwave_flux_wrt_time\",\n",
    "\"air_temperature_2m\",\n",
    "\"relative_humidity_2m\",\n",
    "\"cloud_area_fraction\",\n",
    "\"surface_air_pressure\",\n",
    "\"wind_direction\",\n",
    "\"wind_speed\",\n",
    "\"snowfall_amount_acc\"]\n",
    "latlons = [[60.7008, 10.8678], \n",
    "           [63.3405, 10.2981]]\n",
    "#\"x_wind_10m\",\n",
    "#\"y_wind_10m\",\n",
    "#\"x_wind_gust_10m\",\n",
    "#\"y_wind_gust_10m\","
   ]
  },
  {
   "cell_type": "code",
   "execution_count": 2,
   "id": "e9aa77f1",
   "metadata": {},
   "outputs": [],
   "source": [
    "vars = [\"surface_downwelling_shortwave_flux_in_air\",\"air_temperature_2m\",\"wind_speed_of_gust\"]\n",
    "latlons = [[60.7008, 10.8678], \n",
    "           [63.3405, 10.2981]]"
   ]
  },
  {
   "cell_type": "code",
   "execution_count": 49,
   "id": "5b296cdc",
   "metadata": {},
   "outputs": [
    {
     "name": "stdout",
     "output_type": "stream",
     "text": [
      "<class 'netCDF4._netCDF4.Variable'>\n",
      "float64 time(time)\n",
      "    long_name: time\n",
      "    standard_name: time\n",
      "    units: seconds since 1970-01-01 00:00:00 +00:00\n",
      "    _ChunkSizes: 1\n",
      "unlimited dimensions: time\n",
      "current shape = (1,)\n",
      "filling off\n"
     ]
    },
    {
     "ename": "TypeError",
     "evalue": "exceptions must derive from BaseException",
     "output_type": "error",
     "traceback": [
      "\u001b[1;31m---------------------------------------------------------------------------\u001b[0m",
      "\u001b[1;31mKeyError\u001b[0m                                  Traceback (most recent call last)",
      "Cell \u001b[1;32mIn[48], line 38\u001b[0m, in \u001b[0;36mget_nora3\u001b[1;34m(latlons, vars, start, end, testing)\u001b[0m\n\u001b[0;32m     37\u001b[0m \u001b[39mfor\u001b[39;00m varidx, var \u001b[39min\u001b[39;00m \u001b[39menumerate\u001b[39m(\u001b[39mvars\u001b[39m): \u001b[39m# need to make a manual var list\u001b[39;00m\n\u001b[1;32m---> 38\u001b[0m     a \u001b[39m=\u001b[39m DS\u001b[39m.\u001b[39mvariables[var][\u001b[39m0\u001b[39m,\u001b[39m0\u001b[39m,:,:]\u001b[39m# results from format (1,1,x,y)\u001b[39;00m\n\u001b[0;32m     39\u001b[0m     \u001b[39mprint\u001b[39m(DS\u001b[39m.\u001b[39mvariables[var])\n",
      "\u001b[1;31mKeyError\u001b[0m: 'integral_of_surface_net_downward_shortwave_flux_wrt_time'",
      "\nDuring handling of the above exception, another exception occurred:\n",
      "\u001b[1;31mTypeError\u001b[0m                                 Traceback (most recent call last)",
      "Cell \u001b[1;32mIn[49], line 5\u001b[0m\n\u001b[0;32m      1\u001b[0m \u001b[39mimport\u001b[39;00m \u001b[39mtime\u001b[39;00m\n\u001b[0;32m      3\u001b[0m start \u001b[39m=\u001b[39m time\u001b[39m.\u001b[39mtime()\n\u001b[1;32m----> 5\u001b[0m get_nora3(latlons, \u001b[39mvars\u001b[39m, start\u001b[39m=\u001b[39m\u001b[39m'\u001b[39m\u001b[39m2020-10-19\u001b[39m\u001b[39m'\u001b[39m, end\u001b[39m=\u001b[39m\u001b[39m'\u001b[39m\u001b[39m2021-12-31\u001b[39m\u001b[39m'\u001b[39m)\n\u001b[0;32m      7\u001b[0m end \u001b[39m=\u001b[39m time\u001b[39m.\u001b[39mtime()\n\u001b[0;32m      8\u001b[0m diff \u001b[39m=\u001b[39m end\u001b[39m-\u001b[39mstart\n",
      "Cell \u001b[1;32mIn[48], line 66\u001b[0m, in \u001b[0;36mget_nora3\u001b[1;34m(latlons, vars, start, end, testing)\u001b[0m\n\u001b[0;32m     63\u001b[0m             \u001b[39mprint\u001b[39m(filename)\n\u001b[0;32m     65\u001b[0m \u001b[39mexcept\u001b[39;00m:\n\u001b[1;32m---> 66\u001b[0m     \u001b[39mraise\u001b[39;00m \u001b[39m\"\u001b[39m\u001b[39mwell this isnt supposed to happen though..\u001b[39m\u001b[39m\"\u001b[39m\n",
      "\u001b[1;31mTypeError\u001b[0m: exceptions must derive from BaseException"
     ]
    }
   ],
   "source": [
    "import time\n",
    "\n",
    "start = time.time()\n",
    "\n",
    "get_nora3(latlons, vars, start='2020-10-19', end='2021-12-31')\n",
    "\n",
    "end = time.time()\n",
    "diff = end-start\n",
    "print(diff)"
   ]
  },
  {
   "attachments": {},
   "cell_type": "markdown",
   "id": "98b9830a",
   "metadata": {},
   "source": []
  },
  {
   "cell_type": "code",
   "execution_count": 39,
   "id": "3345e772",
   "metadata": {},
   "outputs": [
    {
     "ename": "SyntaxError",
     "evalue": "invalid syntax. Perhaps you forgot a comma? (2960871502.py, line 1)",
     "output_type": "error",
     "traceback": [
      "\u001b[1;36m  Cell \u001b[1;32mIn[39], line 1\u001b[1;36m\u001b[0m\n\u001b[1;33m    len([0.00000000e+00 0.00000000e+00 0.00000000e+00 0.00000000e+00\u001b[0m\n\u001b[1;37m         ^\u001b[0m\n\u001b[1;31mSyntaxError\u001b[0m\u001b[1;31m:\u001b[0m invalid syntax. Perhaps you forgot a comma?\n"
     ]
    }
   ],
   "source": []
  }
 ],
 "metadata": {
  "kernelspec": {
   "display_name": "Python 3 (ipykernel)",
   "language": "python",
   "name": "python3"
  },
  "language_info": {
   "codemirror_mode": {
    "name": "ipython",
    "version": 3
   },
   "file_extension": ".py",
   "mimetype": "text/x-python",
   "name": "python",
   "nbconvert_exporter": "python",
   "pygments_lexer": "ipython3",
   "version": "3.11.3"
  }
 },
 "nbformat": 4,
 "nbformat_minor": 5
}
